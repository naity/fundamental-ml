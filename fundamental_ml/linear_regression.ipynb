{
 "cells": [
  {
   "cell_type": "markdown",
   "metadata": {},
   "source": [
    "## Linear Regression\n",
    "\n",
    "Linear regression models the relationship between a dependent variable and one or more independent variables by fitting a linear equation to observed data. The goal is to find the optimal coefficients (betas) that minimize the difference between the predicted and actual values.\n",
    "\n",
    "Common forms of the linear equation:\n",
    "\n",
    "- Simple linear regression: `y = ax + b`\n",
    "- Multiple linear regression: `y = b0 + b1x1 + ... + bnxn`\n",
    "\n",
    "#### Gradient Descent Optimization:\n",
    "\n",
    "Gradient descent is an iterative optimization algorithm commonly used to find the optimal coefficients in linear regression. It works by:\n",
    "\n",
    "1. **Initialization:** Starting with an initial guess for the coefficients (betas).\n",
    "2. **Calculation:** Computing the mean squared error (MSE) to evaluate the model's performance.\n",
    "3. **Update:** Calculating the gradient of the MSE with respect to the coefficients and updating the coefficients in the direction of steepest descent (i.e., opposite the gradient).\n",
    "4. **Iteration:** Repeating steps 2 and 3 until the MSE converges or reaches a satisfactory level."
   ]
  },
  {
   "cell_type": "markdown",
   "metadata": {},
   "source": [
    "### Data"
   ]
  },
  {
   "cell_type": "code",
   "execution_count": 1,
   "metadata": {},
   "outputs": [],
   "source": [
    "from sklearn.datasets import make_regression"
   ]
  },
  {
   "cell_type": "code",
   "execution_count": 2,
   "metadata": {},
   "outputs": [
    {
     "name": "stdout",
     "output_type": "stream",
     "text": [
      "(200, 10) (200,) (10,)\n"
     ]
    }
   ],
   "source": [
    "bias_true = 2.5\n",
    "X, y, coef_true = make_regression(\n",
    "    n_samples=200, n_features=10, bias=bias_true, coef=True, random_state=0\n",
    ")\n",
    "print(X.shape, y.shape, coef_true.shape)"
   ]
  },
  {
   "cell_type": "code",
   "execution_count": 3,
   "metadata": {},
   "outputs": [
    {
     "data": {
      "text/plain": [
       "(array([-0.04400644, -0.02686616,  0.04682146, -0.11799807,  0.02761687,\n",
       "        -0.01502584,  0.02359078,  0.05262236, -0.07173859, -0.03321519]),\n",
       " array([0.99975564, 0.95912705, 0.96716903, 0.96712076, 0.94192213,\n",
       "        0.92674211, 1.06394988, 0.90357571, 0.98727703, 1.03936229]))"
      ]
     },
     "execution_count": 3,
     "metadata": {},
     "output_type": "execute_result"
    }
   ],
   "source": [
    "# drawn from gaussian with zero mean and unit variance.\n",
    "X.mean(axis=0), X.std(axis=0)"
   ]
  },
  {
   "cell_type": "code",
   "execution_count": 4,
   "metadata": {},
   "outputs": [
    {
     "data": {
      "text/plain": [
       "array([44.96944303,  9.68032193, 88.97621358, 40.05104636, 10.32532207,\n",
       "        6.18447832, 28.46940664, 15.48694157, 41.09157343, 51.90989393])"
      ]
     },
     "execution_count": 4,
     "metadata": {},
     "output_type": "execute_result"
    }
   ],
   "source": [
    "# true coefficients\n",
    "coef_true"
   ]
  },
  {
   "cell_type": "markdown",
   "metadata": {},
   "source": [
    "### Implementation"
   ]
  },
  {
   "cell_type": "code",
   "execution_count": 5,
   "metadata": {},
   "outputs": [],
   "source": [
    "import numpy as np"
   ]
  },
  {
   "cell_type": "code",
   "execution_count": 6,
   "metadata": {},
   "outputs": [],
   "source": [
    "class LinearRegression:\n",
    "    def __init__(self, max_iterations=100, learning_rate=0.1):\n",
    "        self.max_iterations = max_iterations\n",
    "        self.learning_rate = learning_rate\n",
    "\n",
    "    def initialize(self, num_features):\n",
    "        self.coef = np.zeros(num_features)  # (n,)\n",
    "        self.bias = 0\n",
    "\n",
    "    def fit(self, X, y):\n",
    "        m, n = X.shape  # (m, n)\n",
    "        self.initialize(n)\n",
    "        losses = []\n",
    "\n",
    "        for i in range(self.max_iterations):\n",
    "            # y_hat = wx + b\n",
    "            preds = X @ self.coef + self.bias  # (m,)\n",
    "\n",
    "            # MSE loss\n",
    "            loss = 0.5 * np.mean(np.square(preds - y))\n",
    "            losses.append(loss)\n",
    "\n",
    "            # gradient descent\n",
    "            self.coef -= self.learning_rate / m * X.T @ (preds - y)  # (n,)\n",
    "            self.bias -= self.learning_rate * np.mean(preds - y)\n",
    "\n",
    "        return losses, self.coef, self.bias\n",
    "\n",
    "    def predict(self, X):\n",
    "        return X @ self.coef + self.bias  # (m,)"
   ]
  },
  {
   "cell_type": "markdown",
   "metadata": {},
   "source": [
    "### Experiment"
   ]
  },
  {
   "cell_type": "code",
   "execution_count": 7,
   "metadata": {},
   "outputs": [],
   "source": [
    "num_samples = X.shape[0]\n",
    "\n",
    "# the new way\n",
    "rng = np.random.default_rng(0)\n",
    "permutated_indicies = rng.permutation(num_samples)\n",
    "train_size = int(num_samples * 0.8)\n",
    "train_indices, test_indices = (\n",
    "    permutated_indicies[:train_size],\n",
    "    permutated_indicies[train_size:],\n",
    ")"
   ]
  },
  {
   "cell_type": "code",
   "execution_count": 8,
   "metadata": {},
   "outputs": [
    {
     "name": "stdout",
     "output_type": "stream",
     "text": [
      "(160, 10) (40, 10)\n"
     ]
    }
   ],
   "source": [
    "X_train, y_train = X[train_indices], y[train_indices]\n",
    "X_test, y_test = X[test_indices], y[test_indices]\n",
    "\n",
    "print(X_train.shape, X_test.shape)"
   ]
  },
  {
   "cell_type": "code",
   "execution_count": 9,
   "metadata": {},
   "outputs": [],
   "source": [
    "model = LinearRegression()\n",
    "losses, coef, bias = model.fit(X_train, y_train)"
   ]
  },
  {
   "cell_type": "code",
   "execution_count": 10,
   "metadata": {},
   "outputs": [],
   "source": [
    "import matplotlib.pyplot as plt\n",
    "import seaborn as sns"
   ]
  },
  {
   "cell_type": "code",
   "execution_count": 11,
   "metadata": {},
   "outputs": [
    {
     "data": {
      "text/plain": [
       "[Text(0.5, 1.0, 'Train error over iterations'),\n",
       " Text(0.5, 0, 'Iteration'),\n",
       " Text(0, 0.5, 'MSE')]"
      ]
     },
     "execution_count": 11,
     "metadata": {},
     "output_type": "execute_result"
    },
    {
     "data": {
      "image/png": "[encoded data removed]",
      "text/plain": [
       "<Figure size 640x480 with 1 Axes>"
      ]
     },
     "metadata": {},
     "output_type": "display_data"
    }
   ],
   "source": [
    "# visualize train error over iterations\n",
    "ax = sns.lineplot(x=range(1, len(losses) + 1), y=losses)\n",
    "ax.set(title=\"Train error over iterations\", xlabel=\"Iteration\", ylabel=\"MSE\")"
   ]
  },
  {
   "cell_type": "code",
   "execution_count": 12,
   "metadata": {},
   "outputs": [
    {
     "name": "stdout",
     "output_type": "stream",
     "text": [
      "(40,) (40,)\n",
      "Test MSE error: 0.00015578835058483646\n"
     ]
    }
   ],
   "source": [
    "y_preds = model.predict(X_test)\n",
    "print(y_preds.shape, y_test.shape)\n",
    "print(f\"Test MSE error: {0.5*np.mean(np.square(y_preds - y_test))}\")"
   ]
  },
  {
   "cell_type": "code",
   "execution_count": 13,
   "metadata": {},
   "outputs": [
    {
     "data": {
      "text/plain": [
       "array([44.96449131,  9.68081936, 88.96833905, 40.05773706, 10.32433952,\n",
       "        6.17092321, 28.47040402, 15.48096745, 41.08996389, 51.90987722])"
      ]
     },
     "execution_count": 13,
     "metadata": {},
     "output_type": "execute_result"
    }
   ],
   "source": [
    "# check coefficients and bias\n",
    "coef"
   ]
  },
  {
   "cell_type": "code",
   "execution_count": 14,
   "metadata": {},
   "outputs": [
    {
     "data": {
      "text/plain": [
       "array([44.96944303,  9.68032193, 88.97621358, 40.05104636, 10.32532207,\n",
       "        6.18447832, 28.46940664, 15.48694157, 41.09157343, 51.90989393])"
      ]
     },
     "execution_count": 14,
     "metadata": {},
     "output_type": "execute_result"
    }
   ],
   "source": [
    "coef_true"
   ]
  },
  {
   "cell_type": "code",
   "execution_count": 15,
   "metadata": {},
   "outputs": [
    {
     "data": {
      "text/plain": [
       "(2.499013975712633, 2.5)"
      ]
     },
     "execution_count": 15,
     "metadata": {},
     "output_type": "execute_result"
    }
   ],
   "source": [
    "bias, bias_true"
   ]
  },
  {
   "cell_type": "code",
   "execution_count": null,
   "metadata": {},
   "outputs": [],
   "source": []
  }
 ],
 "metadata": {
  "kernelspec": {
   "display_name": "ml",
   "language": "python",
   "name": "python3"
  },
  "language_info": {
   "codemirror_mode": {
    "name": "ipython",
    "version": 3
   },
   "file_extension": ".py",
   "mimetype": "text/x-python",
   "name": "python",
   "nbconvert_exporter": "python",
   "pygments_lexer": "ipython3",
   "version": "3.10.13"
  }
 },
 "nbformat": 4,
 "nbformat_minor": 2
}
