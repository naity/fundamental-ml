{
 "cells": [
  {
   "cell_type": "markdown",
   "metadata": {},
   "source": [
    "## Logistic regression\n",
    "\n",
    "Logistic regression is a binary classification model that estimates the probability of a sample belonging to a particular class (e.g., positive or negative). It uses a linear combination of features, similar to linear regression, but passes the result through a logistic (sigmoid) function to constrain the output to a probability between 0 and 1.\n",
    "\n",
    "1. $z = w \\cdot x + b$\n",
    "2. $g(z) = \\frac{e^z}{1 + e^z}$\n",
    "\n",
    "A threshold (e.g., 0.5) is used to classify samples:\n",
    "\n",
    "- If $(g(z) \\geq 0.5)$, predict positive class.\n",
    "- If $(g(z) < 0.5)$, predict negative class.\n",
    "\n",
    "The model parameters ((w) and (b)) are learned by maximizing the log-likelihood of the observed data, or equivalently, minimizing the negative log-likelihood (which serves as the loss function):\n",
    "\n",
    "$$\n",
    "\\mathcal{L}(w, b) = \\frac{1}{m} \\sum_{i=1}^{m} \\left[ y^{(i)} \\log(\\hat{y}^{(i)}) + (1 - y^{(i)}) \\log(1 - \\hat{y}^{(i)}) \\right]\n",
    "\n",
    "$$\n",
    "\n",
    "$$\n",
    "J(w, b) = -\\frac{1}{m} \\sum_{i=1}^{m} \\left[ y^{(i)} \\log(\\hat{y}^{(i)}) + (1 - y^{(i)}) \\log(1 - \\hat{y}^{(i)}) \\right]\n",
    "$$\n",
    "\n",
    "Gradient Descent Optimization:\n",
    "\n",
    "Gradient descent is commonly used to optimize the parameters by iteratively updating them based on the gradients of the loss function. It works by:\n",
    "\n",
    "1. **Initialization:** Starting with an initial guess for the coefficients (betas).\n",
    "2. **Calculation:**\n",
    "    1. Computing the loss to evaluate the model's performance.\n",
    "    2. Calculating the gradients of the loss with respect to the coefficients (**same form as linear regression**):\n",
    "    \n",
    "    $$\n",
    "    \\frac{\\partial J}{\\partial w_j} = \\frac{1}{m} \\sum_{i=1}^{m} (\\hat{y}^{(i)} - y^{(i)}) \\cdot x_j^{(i)} \\quad \\text{for } j = 1, 2, ..., n\n",
    "    $$\n",
    "    \n",
    "    $$\n",
    "    \\frac{\\partial J}{\\partial b} = \\frac{1}{m} \\sum_{i=1}^{m} (\\hat{y}^{(i)} - y^{(i)})\n",
    "    $$\n",
    "    \n",
    "3. **Update:** Updating the coefficients using the gradients and a learning rate (alpha):\n",
    "    \n",
    "    $$\n",
    "    w_j = w_j - \\alpha \\cdot \\frac{\\partial J}{\\partial w_j} \\quad \\text{for } j = 1, 2, ..., n\n",
    "    $$\n",
    "    \n",
    "    $$\n",
    "    b = b - \\alpha \\cdot \\frac{\\partial J}{\\partial b}\n",
    "    \n",
    "    $$\n",
    "    \n",
    "4. **Iteration:** Repeating steps 2 and 3 until the loss converges or reaches a satisfactory level."
   ]
  },
  {
   "cell_type": "markdown",
   "metadata": {},
   "source": [
    "### Data"
   ]
  },
  {
   "cell_type": "code",
   "execution_count": 1,
   "metadata": {},
   "outputs": [],
   "source": [
    "from sklearn.datasets import make_classification"
   ]
  },
  {
   "cell_type": "code",
   "execution_count": 2,
   "metadata": {},
   "outputs": [
    {
     "name": "stdout",
     "output_type": "stream",
     "text": [
      "(200, 4) (200,)\n"
     ]
    }
   ],
   "source": [
    "bias_true = 2.5\n",
    "X, y = make_classification(n_samples=200, n_features=4, random_state=0)\n",
    "print(X.shape, y.shape)"
   ]
  },
  {
   "cell_type": "code",
   "execution_count": 14,
   "metadata": {},
   "outputs": [
    {
     "data": {
      "text/plain": [
       "0.5"
      ]
     },
     "execution_count": 14,
     "metadata": {},
     "output_type": "execute_result"
    }
   ],
   "source": [
    "# balanced\n",
    "y.mean()"
   ]
  },
  {
   "cell_type": "markdown",
   "metadata": {},
   "source": [
    "### Implementation"
   ]
  },
  {
   "cell_type": "code",
   "execution_count": 3,
   "metadata": {},
   "outputs": [],
   "source": [
    "import numpy as np"
   ]
  },
  {
   "cell_type": "code",
   "execution_count": 4,
   "metadata": {},
   "outputs": [],
   "source": [
    "class LogisticRegression:\n",
    "    def __init__(self, max_iterations=100, learning_rate=0.1):\n",
    "        self.max_iterations = max_iterations\n",
    "        self.learning_rate = learning_rate\n",
    "\n",
    "    def initialize(self, num_features):\n",
    "        self.coef = np.zeros(num_features)  # (n,)\n",
    "        self.bias = 0\n",
    "\n",
    "    def sigmoid(self, z):\n",
    "        # return np.exp(z) / (1 + np.exp(z))\n",
    "        return 1 / (1 + np.exp(-z))\n",
    "\n",
    "    def fit(self, X, y):\n",
    "        m, n = X.shape  # (m, n)\n",
    "        self.initialize(n)\n",
    "        losses = []\n",
    "\n",
    "        for i in range(self.max_iterations):\n",
    "            # y_hat = sigmoid(wx + b)\n",
    "            preds = self.sigmoid(X @ self.coef + self.bias)  # (m,)\n",
    "\n",
    "            # negative log likelihood loss\n",
    "            loss = -np.mean(y * np.log(preds) + (1 - y) * np.log(1 - preds))\n",
    "            losses.append(loss)\n",
    "\n",
    "            # gradient descent\n",
    "            self.coef -= self.learning_rate / m * X.T @ (preds - y)  # (n,)\n",
    "            self.bias -= self.learning_rate * np.mean(preds - y)\n",
    "\n",
    "        return losses, self.coef, self.bias\n",
    "\n",
    "    def predict(self, X):\n",
    "        return self.sigmoid(X @ self.coef + self.bias)  # (m,)"
   ]
  },
  {
   "cell_type": "markdown",
   "metadata": {},
   "source": [
    "### Experiment"
   ]
  },
  {
   "cell_type": "code",
   "execution_count": 5,
   "metadata": {},
   "outputs": [],
   "source": [
    "num_samples = X.shape[0]\n",
    "\n",
    "# the new way\n",
    "rng = np.random.default_rng(0)\n",
    "permutated_indicies = rng.permutation(num_samples)\n",
    "train_size = int(num_samples * 0.8)\n",
    "train_indices, test_indices = (\n",
    "    permutated_indicies[:train_size],\n",
    "    permutated_indicies[train_size:],\n",
    ")"
   ]
  },
  {
   "cell_type": "code",
   "execution_count": 6,
   "metadata": {},
   "outputs": [
    {
     "name": "stdout",
     "output_type": "stream",
     "text": [
      "(160, 4) (40, 4)\n"
     ]
    }
   ],
   "source": [
    "X_train, y_train = X[train_indices], y[train_indices]\n",
    "X_test, y_test = X[test_indices], y[test_indices]\n",
    "\n",
    "print(X_train.shape, X_test.shape)"
   ]
  },
  {
   "cell_type": "code",
   "execution_count": 7,
   "metadata": {},
   "outputs": [],
   "source": [
    "# standardize the data\n",
    "means = X_train.mean(axis=0)\n",
    "std = X_train.std(axis=0)\n",
    "\n",
    "X_train = (X_train - means) / std\n",
    "X_test = (X_test - means) / std"
   ]
  },
  {
   "cell_type": "code",
   "execution_count": 8,
   "metadata": {},
   "outputs": [],
   "source": [
    "model = LogisticRegression(max_iterations=200)\n",
    "losses, coef, bias = model.fit(X_train, y_train)"
   ]
  },
  {
   "cell_type": "code",
   "execution_count": 9,
   "metadata": {},
   "outputs": [],
   "source": [
    "import matplotlib.pyplot as plt\n",
    "import seaborn as sns"
   ]
  },
  {
   "cell_type": "code",
   "execution_count": 10,
   "metadata": {},
   "outputs": [
    {
     "data": {
      "text/plain": [
       "[Text(0.5, 1.0, 'Train error over iterations'),\n",
       " Text(0.5, 0, 'Iteration'),\n",
       " Text(0, 0.5, 'MSE')]"
      ]
     },
     "execution_count": 10,
     "metadata": {},
     "output_type": "execute_result"
    },
    {
     "data": {
      "image/png": "[encoded data removed]",
      "text/plain": [
       "<Figure size 640x480 with 1 Axes>"
      ]
     },
     "metadata": {},
     "output_type": "display_data"
    }
   ],
   "source": [
    "# visualize train error over iterations\n",
    "ax = sns.lineplot(x=range(1, len(losses) + 1), y=losses)\n",
    "ax.set(title=\"Train error over iterations\", xlabel=\"Iteration\", ylabel=\"MSE\")"
   ]
  },
  {
   "cell_type": "code",
   "execution_count": 11,
   "metadata": {},
   "outputs": [
    {
     "name": "stdout",
     "output_type": "stream",
     "text": [
      "Test accuracy: 0.95\n"
     ]
    }
   ],
   "source": [
    "y_preds = model.predict(X_test)\n",
    "\n",
    "# use a threshold of 0.5\n",
    "y_preds = (y_preds > 0.5).astype(int)\n",
    "\n",
    "# accuracy\n",
    "print(f\"Test accuracy: {np.mean(y_preds == y_test)}\")"
   ]
  },
  {
   "cell_type": "code",
   "execution_count": 12,
   "metadata": {},
   "outputs": [
    {
     "data": {
      "text/plain": [
       "array([ 1.47352041, -0.09104712, -1.0271309 , -1.48452045])"
      ]
     },
     "execution_count": 12,
     "metadata": {},
     "output_type": "execute_result"
    }
   ],
   "source": [
    "# check coefficients and bias\n",
    "coef"
   ]
  },
  {
   "cell_type": "code",
   "execution_count": 13,
   "metadata": {},
   "outputs": [
    {
     "data": {
      "text/plain": [
       "-0.2943155762252519"
      ]
     },
     "execution_count": 13,
     "metadata": {},
     "output_type": "execute_result"
    }
   ],
   "source": [
    "bias"
   ]
  },
  {
   "cell_type": "code",
   "execution_count": null,
   "metadata": {},
   "outputs": [],
   "source": []
  }
 ],
 "metadata": {
  "kernelspec": {
   "display_name": "ml",
   "language": "python",
   "name": "python3"
  },
  "language_info": {
   "codemirror_mode": {
    "name": "ipython",
    "version": 3
   },
   "file_extension": ".py",
   "mimetype": "text/x-python",
   "name": "python",
   "nbconvert_exporter": "python",
   "pygments_lexer": "ipython3",
   "version": "3.10.13"
  }
 },
 "nbformat": 4,
 "nbformat_minor": 2
}
